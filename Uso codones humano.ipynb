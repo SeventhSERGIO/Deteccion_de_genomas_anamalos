{
 "cells": [
  {
   "cell_type": "markdown",
   "id": "7debfd53-957a-4368-ac6f-1c877d39a5a6",
   "metadata": {
    "tags": []
   },
   "source": [
    "# Detección de genomas anómalos de SARS-CoV-2 por medio de algoritmos de aprendizaje no supervisados "
   ]
  },
  {
   "cell_type": "markdown",
   "id": "30df9745-093e-4bc0-8e60-58b0e33e133d",
   "metadata": {},
   "source": [
    "# Obtención del uso de codones del humano"
   ]
  },
  {
   "cell_type": "markdown",
   "id": "ce444af6-e34d-4eae-a287-be0c6b4db417",
   "metadata": {},
   "source": [
    "En este Jupyter Notebook se obtiene, se pre-procesa y se visualiza el uso de codones del homo sapiens, obtenido de [aqui](https://www.kazusa.or.jp/codon/cgi-bin/showcodon.cgi?species=9606)."
   ]
  },
  {
   "cell_type": "markdown",
   "id": "3a9a8b39-a4c8-429a-b247-594edc6ff2f7",
   "metadata": {},
   "source": [
    "## ➤ Bibliotecas necesarias y configuración inicial"
   ]
  },
  {
   "cell_type": "markdown",
   "id": "19359840-37f9-4ef5-b285-5015cd676552",
   "metadata": {},
   "source": [
    "Las bibliotecas necesarias para obtener y visualizar el uso de codones del homo sapiens son ```pandas``` y ```matplotlib```."
   ]
  },
  {
   "cell_type": "code",
   "execution_count": 1,
   "id": "5952b1bc-7d73-48b5-8337-730b9cd56889",
   "metadata": {
    "execution": {
     "iopub.execute_input": "2023-09-18T03:50:02.318960Z",
     "iopub.status.busy": "2023-09-18T03:50:02.318618Z",
     "iopub.status.idle": "2023-09-18T03:50:02.878962Z",
     "shell.execute_reply": "2023-09-18T03:50:02.878655Z",
     "shell.execute_reply.started": "2023-09-18T03:50:02.318937Z"
    },
    "tags": []
   },
   "outputs": [],
   "source": [
    "from matplotlib import pyplot as plt\n",
    "import pandas as pd"
   ]
  },
  {
   "cell_type": "markdown",
   "id": "0ece0e81-cde3-4446-ac75-c67c5c6076fa",
   "metadata": {},
   "source": [
    "Configuración para el estilo a utilizar en las gráficas."
   ]
  },
  {
   "cell_type": "code",
   "execution_count": 2,
   "id": "d0fce27d-b255-4eeb-9003-24feec03a677",
   "metadata": {
    "execution": {
     "iopub.execute_input": "2023-09-18T03:50:02.880131Z",
     "iopub.status.busy": "2023-09-18T03:50:02.879983Z",
     "iopub.status.idle": "2023-09-18T03:50:02.882280Z",
     "shell.execute_reply": "2023-09-18T03:50:02.882048Z",
     "shell.execute_reply.started": "2023-09-18T03:50:02.880120Z"
    },
    "tags": []
   },
   "outputs": [],
   "source": [
    "BACK = 'white'\n",
    "FRONT = (230/255,236/255,245/255)\n",
    "\n",
    "plt.rc('figure', facecolor=BACK, edgecolor='white')\n",
    "plt.rc('axes', facecolor=FRONT, edgecolor='white', labelsize=14, \n",
    "       labelweight='medium', titlesize=18, grid=True, axisbelow=True)\n",
    "plt.rc('grid', color='white')"
   ]
  },
  {
   "cell_type": "markdown",
   "id": "b9b61af2-aab7-4d52-8eaa-8f31187aca65",
   "metadata": {},
   "source": [
    "## ➤ Obtención de los datos"
   ]
  },
  {
   "cell_type": "markdown",
   "id": "a5eafbd1-d832-4203-ab00-18a19a514be0",
   "metadata": {},
   "source": [
    "Se lee el archivo y se muestra una parte."
   ]
  },
  {
   "cell_type": "code",
   "execution_count": 3,
   "id": "0d1e9a35-6391-4117-8470-58f406aad356",
   "metadata": {
    "execution": {
     "iopub.execute_input": "2023-09-18T03:50:02.882816Z",
     "iopub.status.busy": "2023-09-18T03:50:02.882696Z",
     "iopub.status.idle": "2023-09-18T03:50:02.891974Z",
     "shell.execute_reply": "2023-09-18T03:50:02.891657Z",
     "shell.execute_reply.started": "2023-09-18T03:50:02.882807Z"
    },
    "tags": []
   },
   "outputs": [],
   "source": [
    "# Se lee el archivo crudo con el uso de codones del humano\n",
    "humanCodonsComplete = pd.read_csv('Archivos_crudos/homo_sapiens_codons.csv')"
   ]
  },
  {
   "cell_type": "code",
   "execution_count": 4,
   "id": "fd49bd87-6f11-4886-a9b7-a08b8162c53e",
   "metadata": {
    "execution": {
     "iopub.execute_input": "2023-09-18T03:50:02.892666Z",
     "iopub.status.busy": "2023-09-18T03:50:02.892546Z",
     "iopub.status.idle": "2023-09-18T03:50:02.900856Z",
     "shell.execute_reply": "2023-09-18T03:50:02.900566Z",
     "shell.execute_reply.started": "2023-09-18T03:50:02.892654Z"
    },
    "tags": []
   },
   "outputs": [
    {
     "data": {
      "text/html": [
       "<div>\n",
       "<style scoped>\n",
       "    .dataframe tbody tr th:only-of-type {\n",
       "        vertical-align: middle;\n",
       "    }\n",
       "\n",
       "    .dataframe tbody tr th {\n",
       "        vertical-align: top;\n",
       "    }\n",
       "\n",
       "    .dataframe thead th {\n",
       "        text-align: right;\n",
       "    }\n",
       "</style>\n",
       "<table border=\"1\" class=\"dataframe\">\n",
       "  <thead>\n",
       "    <tr style=\"text-align: right;\">\n",
       "      <th></th>\n",
       "      <th>UUU frequency</th>\n",
       "      <th>UUU number</th>\n",
       "      <th>UUC frequency</th>\n",
       "      <th>UUC number</th>\n",
       "      <th>UUA frequency</th>\n",
       "      <th>UUA number</th>\n",
       "      <th>UUG frequency</th>\n",
       "      <th>UUG number</th>\n",
       "      <th>UCU frequency</th>\n",
       "    </tr>\n",
       "  </thead>\n",
       "  <tbody>\n",
       "    <tr>\n",
       "      <th>0</th>\n",
       "      <td>17.6</td>\n",
       "      <td>714298</td>\n",
       "      <td>20.3</td>\n",
       "      <td>824692</td>\n",
       "      <td>7.7</td>\n",
       "      <td>311881</td>\n",
       "      <td>12.9</td>\n",
       "      <td>525688</td>\n",
       "      <td>15.2</td>\n",
       "    </tr>\n",
       "  </tbody>\n",
       "</table>\n",
       "</div>"
      ],
      "text/plain": [
       "   UUU frequency  UUU number  UUC frequency  UUC number  UUA frequency   \n",
       "0           17.6      714298           20.3      824692            7.7  \\\n",
       "\n",
       "   UUA number  UUG frequency  UUG number  UCU frequency  \n",
       "0      311881           12.9      525688           15.2  "
      ]
     },
     "execution_count": 4,
     "metadata": {},
     "output_type": "execute_result"
    }
   ],
   "source": [
    "humanCodonsComplete.iloc[:,1:10]"
   ]
  },
  {
   "cell_type": "markdown",
   "id": "0aaa662b-be43-4238-a97e-ac807ae92c7d",
   "metadata": {},
   "source": [
    "## ➤ Pre-proecesamiento"
   ]
  },
  {
   "cell_type": "markdown",
   "id": "eccbfce5-23e5-42e4-ab82-8ffed9a6ec1d",
   "metadata": {},
   "source": [
    "Para el pre-procesamiento se seleccionan las columnas a utilizar (uso de codones absoluto), se le cambia el nombre a estas columnas y se obtiene la frecuencia relativa de cada una."
   ]
  },
  {
   "cell_type": "code",
   "execution_count": 5,
   "id": "06bb1cb1-be2f-42c1-b183-7c1ac66d27dc",
   "metadata": {
    "execution": {
     "iopub.execute_input": "2023-09-18T03:50:02.901425Z",
     "iopub.status.busy": "2023-09-18T03:50:02.901332Z",
     "iopub.status.idle": "2023-09-18T03:50:02.907934Z",
     "shell.execute_reply": "2023-09-18T03:50:02.907621Z",
     "shell.execute_reply.started": "2023-09-18T03:50:02.901416Z"
    },
    "tags": []
   },
   "outputs": [
    {
     "data": {
      "text/plain": [
       "0     0.024436\n",
       "1     0.019099\n",
       "2     0.031861\n",
       "3     0.016962\n",
       "4     0.015113\n",
       "        ...   \n",
       "59    0.010582\n",
       "60    0.007670\n",
       "61    0.020281\n",
       "62    0.012928\n",
       "63    0.017566\n",
       "Name: Homo_sapiens, Length: 64, dtype: float64"
      ]
     },
     "execution_count": 5,
     "metadata": {},
     "output_type": "execute_result"
    }
   ],
   "source": [
    "# Select columns to work with\n",
    "columns = [column for column in humanCodonsComplete.columns if 'number' in column]\n",
    "humanCodons = humanCodonsComplete[columns + ['Name','Codons']].set_index('Name')\n",
    "# Function to enumerate the codons\n",
    "base_to_number = {'A':'0','C':'1','G':'2','T':'3','U':'3'}\n",
    "codon_to_int = lambda codon: int(''.join([base_to_number[base] for base in codon]), base=4)\n",
    "# Rename codons name by number\n",
    "humanCodons = humanCodons.rename(columns={column: str(codon_to_int(column.split(' ')[0])) \n",
    "                                          for column in columns if column != 'Codons'})\n",
    "# Get the total of codons\n",
    "total_humanCodons = humanCodons['Codons'].iloc[0]\n",
    "humanCodons = humanCodons.drop(columns=['Codons'])\n",
    "# Sort the columns\n",
    "humanCodons = humanCodons[sorted([column for column in humanCodons.columns], key=int)]\n",
    "# Get the frequency of each codon\n",
    "humanCodons = humanCodons/total_humanCodons\n",
    "# Transform the dataframe to a pandas series\n",
    "humanCodons = humanCodons.T.squeeze()\n",
    "humanCodons"
   ]
  },
  {
   "cell_type": "markdown",
   "id": "4f5a39f6-820a-4ebb-994a-df0fb836a555",
   "metadata": {
    "tags": []
   },
   "source": [
    "## ➤ Visualización del uso de codones"
   ]
  },
  {
   "cell_type": "markdown",
   "id": "bc6a7e8d-4bcf-478d-aabb-74634c677746",
   "metadata": {},
   "source": [
    "Se obtiene el histograma de la frecuencia relativa del uso de codones del humano."
   ]
  },
  {
   "cell_type": "code",
   "execution_count": 6,
   "id": "fde26e1f-6450-48a6-863a-38782c93830b",
   "metadata": {
    "execution": {
     "iopub.execute_input": "2023-09-18T03:50:02.908814Z",
     "iopub.status.busy": "2023-09-18T03:50:02.908471Z",
     "iopub.status.idle": "2023-09-18T03:50:04.566238Z",
     "shell.execute_reply": "2023-09-18T03:50:04.565788Z",
     "shell.execute_reply.started": "2023-09-18T03:50:02.908802Z"
    },
    "tags": []
   },
   "outputs": [
    {
     "data": {
      "image/png": "[encoded data removed]",
      "text/plain": [
       "<Figure size 2500x500 with 1 Axes>"
      ]
     },
     "metadata": {},
     "output_type": "display_data"
    }
   ],
   "source": [
    "fig, ax = plt.subplots(figsize=(25,5))\n",
    "humanCodons.plot(kind='bar', color='dodgerblue', ax=ax, grid=True);\n",
    "#ax.set_title('Uso de codones (Homo sapiens)', fontdict=dict(size=16, weight='bold'));\n",
    "ax.set_xlabel('Codones', fontdict=dict(size=14, weight='bold'));\n",
    "ax.set_ylabel('Frecuencia Relativa', fontdict=dict(size=14, weight='bold'));\n",
    "fig.savefig('Images/codon_usage_human.pdf', dpi=1000, bbox_inches='tight', facecolor='none')\n",
    "fig.savefig('Images(jpg)/codon_usage_human.jpg', dpi=1000, bbox_inches='tight', facecolor='none')"
   ]
  },
  {
   "cell_type": "markdown",
   "id": "ee6c73d8-5c4e-432c-a73f-f770ba3ed8cf",
   "metadata": {},
   "source": [
    "## ➤ Se guarda el archivo generado"
   ]
  },
  {
   "cell_type": "code",
   "execution_count": 7,
   "id": "c45cab8d-eb43-4f79-b982-38ee3368fc31",
   "metadata": {
    "execution": {
     "iopub.execute_input": "2023-09-18T03:50:04.569484Z",
     "iopub.status.busy": "2023-09-18T03:50:04.568844Z",
     "iopub.status.idle": "2023-09-18T03:50:04.578299Z",
     "shell.execute_reply": "2023-09-18T03:50:04.577851Z",
     "shell.execute_reply.started": "2023-09-18T03:50:04.569432Z"
    },
    "tags": []
   },
   "outputs": [],
   "source": [
    "humanCodons.to_csv('Archivos/human_codon_usage.csv', index=False)"
   ]
  }
 ],
 "metadata": {
  "kernelspec": {
   "display_name": "Python 3 (ipykernel)",
   "language": "python",
   "name": "python3"
  },
  "language_info": {
   "codemirror_mode": {
    "name": "ipython",
    "version": 3
   },
   "file_extension": ".py",
   "mimetype": "text/x-python",
   "name": "python",
   "nbconvert_exporter": "python",
   "pygments_lexer": "ipython3",
   "version": "3.10.9"
  },
  "toc-autonumbering": false,
  "widgets": {
   "application/vnd.jupyter.widget-state+json": {
    "state": {},
    "version_major": 2,
    "version_minor": 0
   }
  }
 },
 "nbformat": 4,
 "nbformat_minor": 5
}
